{
  "nbformat": 4,
  "nbformat_minor": 0,
  "metadata": {
    "colab": {
      "provenance": [],
      "include_colab_link": true
    },
    "kernelspec": {
      "name": "python3",
      "display_name": "Python 3"
    },
    "language_info": {
      "name": "python"
    }
  },
  "cells": [
    {
      "cell_type": "markdown",
      "metadata": {
        "id": "view-in-github",
        "colab_type": "text"
      },
      "source": [
        "<a href=\"https://colab.research.google.com/github/Samreen4/cap-comp215/blob/main/Project2.ipynb\" target=\"_parent\"><img src=\"https://colab.research.google.com/assets/colab-badge.svg\" alt=\"Open In Colab\"/></a>"
      ]
    },
    {
      "cell_type": "markdown",
      "source": [
        "#Project:-2 Langton’s Ant\n",
        "## By:- Sachjeevan Singh and Samreen Kaur\n",
        "______________________________________________\n",
        "\n",
        "# Discription:\n",
        "this code creates an animation of langton's ant model where an ant move from one cell to another changing its color if the cell is white it changes to black and if the cell is black it changes to white.\n",
        "\n",
        "#Rules:\n",
        "\n",
        "\n",
        "1.   Rule 1: If the ant is on white cell the in turn 90 degree clockwise and move forward one step\n",
        "2.   Rule 2: If the ant is on black cell the in turn 90 degree counter-clockwise and move forward one step\n",
        "\n",
        "\n",
        "\n",
        "#Objective:\n",
        "*   to develop another 2D CA similar to Game of Life\n",
        "*   to experiment with interactions between persistent patterns\n",
        "\n",
        "#Importing modules:\n",
        "In this cell all the needed modules are being imported like matplotlib, timeit, and numpy.\n",
        "\n",
        "\n",
        "\n",
        "\n",
        "\n",
        "\n",
        "\n",
        "\n"
      ],
      "metadata": {
        "id": "CG1Yry4zVUZC"
      }
    },
    {
      "cell_type": "code",
      "source": [
        "import numpy as np\n",
        "import matplotlib.pyplot as plt\n",
        "import matplotlib.animation as animation\n",
        "import time\n",
        "from timeit import timeit"
      ],
      "metadata": {
        "id": "hWTqb4e1FZif"
      },
      "execution_count": null,
      "outputs": []
    },
    {
      "cell_type": "markdown",
      "source": [
        "#Function and class:\n",
        "plot_2d_array and class Animation2D are from comp215 repository and lab7.\n",
        "\n",
        "credit- this idea was of arsh who helped me with this part\n",
        "\n",
        "\n",
        "\n",
        "\n",
        "\n"
      ],
      "metadata": {
        "id": "-PcJC-Q8Fmp3"
      }
    },
    {
      "cell_type": "code",
      "source": [
        "def plot_2d_array(array, axes=None, title='', cmap='Greys', **options):\n",
        "    \"\"\"\n",
        "    Plot the 2D array as an image on the given axes  1's will be black, 0's will be white.\n",
        "\n",
        "    :param axes: the axes to plot on, or None to use the `plt.gca()` (current axes)\n",
        "    :param options: keyword arguments passed directly to `plt.imshow()`\n",
        "           see https://matplotlib.org/stable/api/_as_gen/matplotlib.axes.Axes.imshow.html\n",
        "    \"\"\"\n",
        "    axes = axes or plt.gca()  # If not axes are provided, draw on current axes\n",
        "    axes.set_title(title)\n",
        "    # Turn off axes labels and tick marks\n",
        "    axes.tick_params(axis='both', which='both', bottom=False, top=False, left=False, right=False ,\n",
        "                     labelbottom=False, labeltop=False, labelleft=False, labelright=False,)\n",
        "    # Defaults for displaying a \"matrix\" with hard-pixel boundaries and (0,0) at top-left\n",
        "    options = {**dict(interpolation='nearest', origin='upper'), **options}\n",
        "    axes.imshow(array, cmap=cmap, **options)\n",
        "\n",
        "\n",
        "class Animation2D:     #used the same Animation2D class from lab-7\n",
        "    \"\"\"\n",
        "      Animates any 2D model with a step() method and a draw() method, using matplotlib\n",
        "      model.step() should take no parameters - just step the model forward one step.\n",
        "      model.draw() should take 2 parameters, the matpltolib axes to draw on and an integer step number\n",
        "    \"\"\"\n",
        "\n",
        "    def __init__(self, model, frames=50, figsize=(8, 8)):\n",
        "        \"\"\"\n",
        "        :param model: the simulation object to animate, with step() and draw(axes, step) methods\n",
        "        :param frames: number of animation frames to generate\n",
        "        \"\"\"\n",
        "        self.model = model\n",
        "        self.frames = frames\n",
        "        self.fig, self.ax = plt.subplots(figsize=figsize)\n",
        "\n",
        "    def animation_step(self, step):\n",
        "        \"\"\" Step the model forward and draw the plot \"\"\"\n",
        "        if step > 0:\n",
        "            self.model.step()\n",
        "        self.model.draw(self.ax, step=step)\n",
        "\n",
        "    def show(self):\n",
        "        \"\"\" return the matplotlib animation object, ready for display \"\"\"\n",
        "        anim = animation.FuncAnimation(self.fig, self.animation_step, frames=self.frames)\n",
        "        plt.close()  # this ensures the last frame is not shown as a separate plot\n",
        "        return anim\n",
        "\n",
        "    def animate(self, interval=None):\n",
        "        \"\"\" Animate the model simulation directly in the notebook display block \"\"\"\n",
        "        from IPython.display import clear_output\n",
        "        try:\n",
        "            for i in range(self.frames):\n",
        "                clear_output(wait=True)  # clear the IPython display\n",
        "                self.ax.clear()          # clear old image from the axes (fixes a performance issue)\n",
        "                plt.figure(self.fig)     # add the figure back to pyplot ** sigh **\n",
        "                self.animation_step(i)\n",
        "                plt.show()               # show the current animation frame (pyplot then closes and throws away figure ** sigh **)\n",
        "                if interval:\n",
        "                    time.sleep(interval)\n",
        "        except KeyboardInterrupt:\n",
        "            pass"
      ],
      "metadata": {
        "id": "bEFZja1IFmG8"
      },
      "execution_count": null,
      "outputs": []
    },
    {
      "cell_type": "markdown",
      "source": [
        "#Class Ant2D:\n",
        "This class consist of functions:   \n",
        "\n",
        "* step: which control the action on the ant according to the rules above\n",
        "* simulation: this function simulate the the funtion for 'n' number times\n",
        "* draw: this function visually represent the plot on each step\n",
        "\n"
      ],
      "metadata": {
        "id": "ruEV7AlcHNgP"
      }
    },
    {
      "cell_type": "code",
      "source": [
        "class Ant2D:\n",
        "    def __init__(self, width, height):\n",
        "        self.width = width\n",
        "        self.height = height\n",
        "        self.grid = np.zeros((height, width), dtype=int)\n",
        "        self.ant = (width // 2, height // 2)  # Ant's initial position at the center\n",
        "        self.direction = 'up'  # Ant's initial direction\n",
        "\n",
        "    def step(self):\n",
        "        # Get the current position of the ant\n",
        "        x, y = self.ant\n",
        "\n",
        "        # Toggle the color of the current cell\n",
        "        self.grid[y, x] ^= 1\n",
        "\n",
        "        # Turn the ant based on the color of the current cell\n",
        "        if self.grid[y, x] == 0:  # White cell\n",
        "            if self.direction == 'up':\n",
        "                self.direction = 'right'\n",
        "            elif self.direction == 'right':\n",
        "                self.direction = 'down'\n",
        "            elif self.direction == 'down':\n",
        "                self.direction = 'left'\n",
        "            elif self.direction == 'left':\n",
        "                self.direction = 'up'\n",
        "        else:  # Black cell\n",
        "            if self.direction == 'up':\n",
        "                self.direction = 'left'\n",
        "            elif self.direction == 'left':\n",
        "                self.direction = 'down'\n",
        "            elif self.direction == 'down':\n",
        "                self.direction = 'right'\n",
        "            elif self.direction == 'right':\n",
        "                self.direction = 'up'\n",
        "\n",
        "        # Move the ant\n",
        "        if self.direction == 'up':\n",
        "            self.ant = (x, y - 1)\n",
        "        elif self.direction == 'down':\n",
        "            self.ant = (x, y + 1)\n",
        "        elif self.direction == 'left':\n",
        "            self.ant = (x - 1, y)\n",
        "        elif self.direction == 'right':\n",
        "            self.ant = (x + 1, y)\n",
        "\n",
        "    def simulation(self, n):\n",
        "      for i in range(n):\n",
        "        self.step()\n",
        "\n",
        "    def draw(self, axes, step):\n",
        "        axes.clear()\n",
        "        axes.set_title(f'Step: {step}')\n",
        "        plot_2d_array(self.grid, axes=axes, cmap='binary')\n",
        "\n",
        "\n",
        "\n"
      ],
      "metadata": {
        "id": "k4hCZLB8HVEc"
      },
      "execution_count": null,
      "outputs": []
    },
    {
      "cell_type": "markdown",
      "source": [
        "#Creating animation:\n",
        "here a variable name 'ant' is created usuing Ant2D and animated"
      ],
      "metadata": {
        "id": "gkwQB_25R-aZ"
      }
    },
    {
      "cell_type": "code",
      "source": [
        "ant = Ant2D(10,10)\n",
        "animm = Animation2D(ant, frames=10)\n",
        "animm.animate()\n"
      ],
      "metadata": {
        "id": "-c422ubMR-w6"
      },
      "execution_count": null,
      "outputs": []
    },
    {
      "cell_type": "markdown",
      "source": [
        "#Algorithm analysis:\n",
        "Overall, each iteration of the simulation involves a constant number of operations, and the time complexity does not depend on the size of the grid or the number of iterations.\n",
        "\n",
        "Therefore, the Big-O time complexity of the Langton's Ant simulation algorithm is O(1).\n",
        "\n",
        "This means that regardless of the size of the grid or the number of iterations, the time taken for each step of the simulation remains constant. It's important to note that the complexity analysis assumes that the grid operations, such as accessing cell values and updating them, are constant-time operations."
      ],
      "metadata": {
        "id": "XPOMC03PWwOr"
      }
    },
    {
      "cell_type": "markdown",
      "source": [
        "#Timeit:\n",
        "Using timeit to support the fact that it has  Big-O complexity of O(1)\n"
      ],
      "metadata": {
        "id": "2pHadOEqW8nz"
      }
    },
    {
      "cell_type": "code",
      "source": [
        "def time_calculation(n):\n",
        "  time = dict()\n",
        "  for i in range(n):\n",
        "    test_ant = Ant2D(100,100)\n",
        "    time_taken = timeit(lambda: test_ant.simulation(i), number = 3)\n",
        "    time[i] = time_taken\n",
        "  plt.plot(time.keys(), time.values())\n",
        "  plt.xlabel('Number of Iterations')\n",
        "  plt.ylabel('Execution Time (s)')\n",
        "  plt.title('Execution Time vs. Number of Iterations')\n",
        "\n",
        "time_calculation(1000)"
      ],
      "metadata": {
        "colab": {
          "base_uri": "https://localhost:8080/",
          "height": 493
        },
        "id": "fRLnhZLRWtUI",
        "outputId": "e2f5389e-8200-403d-ffa3-9342068a2639"
      },
      "execution_count": null,
      "outputs": [
        {
          "output_type": "display_data",
          "data": {
            "text/plain": [
              "<Figure size 640x480 with 1 Axes>"
            ],
            "image/png": "[encoded data removed]"
          },
          "metadata": {}
        }
      ]
    }
  ]
}